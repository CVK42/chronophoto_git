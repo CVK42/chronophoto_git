{
 "cells": [
  {
   "cell_type": "code",
   "execution_count": 1,
   "metadata": {},
   "outputs": [],
   "source": [
    "import pickle\n",
    "with open('donnees_nettete.pkl', 'rb') as fichier:\n",
    "    nettete = pickle.load(fichier)\n",
    "with open('donnees_bruit_HF.pkl', 'rb') as fichier:\n",
    "    bruit = pickle.load(fichier)\n",
    "with open('donnees_resolutions.pkl', 'rb') as fichier:\n",
    "    resolution = pickle.load(fichier)\n",
    "with open('donnees_mean_H.pkl', 'rb') as fichier:\n",
    "    mean_H = pickle.load(fichier)\n",
    "with open('donnees_mean_S.pkl', 'rb') as fichier:\n",
    "    mean_S = pickle.load(fichier)\n",
    "with open('donnees_mean_V.pkl', 'rb') as fichier:\n",
    "    mean_V = pickle.load(fichier)"
   ]
  },
  {
   "cell_type": "code",
   "execution_count": 2,
   "metadata": {},
   "outputs": [
    {
     "data": {
      "text/plain": [
       "7543"
      ]
     },
     "execution_count": 2,
     "metadata": {},
     "output_type": "execute_result"
    }
   ],
   "source": [
    "nb_par_annee=[62, 66, 67, 54, 56, 70, 63, 55, 56, 55, 66, 53, 58, 58, 55, 84, 73, 86, 65, 60, 56, 67, 53, 56, 54, 54, 58, 51, 55, 57, 54, 64, 66, 73, 51, 54, 60, 71, 82, 74, 83, 83, 110, 64, 90, 104, 62, 61, 57, 59, 58, 55, 50, 70, 57, 77, 55, 54, 53, 58, 67, 62, 64, 73, 58, 57, 61, 54, 52, 67, 57, 66, 68, 72, 68, 56, 58, 62, 60, 65, 56, 56, 56, 50, 63, 53, 63, 54, 55, 58, 54, 59, 57, 58, 56, 52, 53, 62, 53, 59, 60, 57, 53, 56, 69, 74, 56, 55, 51, 55, 53, 54, 51, 51, 57, 59, 69, 64, 61, 56, 57, 57, 62]\n",
    "sum(nb_par_annee)"
   ]
  },
  {
   "cell_type": "code",
   "execution_count": null,
   "metadata": {},
   "outputs": [],
   "source": [
    "features = [nettete,bruit,resolution,mean_H,mean_S,mean_V]\n",
    "decennies = []\n",
    "nb_par_annee=[62, 66, 67, 54, 56, 70, 63, 55, 56, 55, 66, 53, 58, 58, 55, 84, 73, 86, 65, 60, 56, 67, 53, 56, 54, 54, 58, 51, 55, 57, 54, 64, 66, 73, 51, 54, 60, 71, 82, 74, 83, 83, 110, 64, 90, 104, 62, 61, 57, 59, 58, 55, 50, 70, 57, 77, 55, 54, 53, 58, 67, 62, 64, 73, 58, 57, 61, 54, 52, 67, 57, 66, 68, 72, 68, 56, 58, 62, 60, 65, 56, 56, 56, 50, 63, 53, 63, 54, 55, 58, 54, 59, 57, 58, 56, 52, 53, 62, 53, 59, 60, 57, 53, 56, 69, 74, 56, 55, 51, 55, 53, 54, 51, 51, 57, 59, 69, 64, 61, 56, 57, 57, 62]\n",
    "for i in range(len(nb_par_annee)):\n",
    "    for j in range(nb_par_annee[i]):\n",
    "        decennies.append(1900 + i * 10) \n",
    "        \n",
    "        \n",
    "ensemble_donnees = []\n",
    "for i in range(len(features[0])):\n",
    "    caracteristiques = []\n",
    "    for feature in features:\n",
    "        caracteristique = feature[i]\n",
    "        caracteristiques.append(caracteristique)\n",
    "    decennie = decennies[i]\n",
    "    donnee = (caracteristiques, decennie)\n",
    "    ensemble_donnees.append(donnee)\n",
    "\n",
    "for i in range (len(features)):\n",
    "    for j in range (len(features[i])):\n",
    "        M=max(features[i])\n",
    "        features[i][j]=features[i][j]/M\n",
    "        \n",
    "ensemble_donnees = []\n",
    "for i in range(len(features[0])):\n",
    "    caracteristiques = []\n",
    "    for feature in features:\n",
    "        caracteristique = feature[i]\n",
    "        caracteristiques.append(caracteristique)\n",
    "    decennie = decennies[i]\n",
    "    donnee = (caracteristiques, decennie)\n",
    "    ensemble_donnees.append(donnee)      \n",
    "\n"
   ]
  },
  {
   "cell_type": "code",
   "execution_count": null,
   "metadata": {},
   "outputs": [],
   "source": [
    "from sklearn.ensemble import RandomForestClassifier\n",
    "from sklearn.model_selection import train_test_split\n",
    "from sklearn.metrics import accuracy_score, confusion_matrix\n",
    "from sklearn.metrics import ConfusionMatrixDisplay\n",
    "import matplotlib.pyplot as plt\n",
    "from sklearn.model_selection import train_test_split\n",
    "\n",
    "# Séparation des données d'entraînement et de test\n",
    "train_data, test_data, train_labels, test_labels = train_test_split(ensemble_donnees, decennies, test_size=0.2, random_state=42)\n",
    "\n",
    "# Séparation des caractéristiques et des étiquettes\n",
    "train_features = [x[0] for x in train_data]\n",
    "train_labels = [x[1] for x in train_data]\n",
    "\n",
    "# Initialisation du modèle Random Forest\n",
    "model = RandomForestClassifier()\n",
    "\n",
    "# Entraînement du modèle sur les données d'entraînement\n",
    "model.fit(train_features, train_labels)\n",
    "\n",
    "\n",
    "test_features = [x[0] for x in test_data]\n",
    "test_labels = [x[1] for x in test_data]\n",
    "print(test_labels[0])\n",
    "from sklearn.metrics import accuracy_score\n",
    "\n",
    "# Prédiction sur les données de test\n",
    "predictions = model.predict(test_features)\n",
    "\n",
    "# Calcul de la précision du modèle\n",
    "accuracy = accuracy_score(test_labels, predictions)\n",
    "print(\"Précision du modèle : {:.2f}%\".format(accuracy * 100))\n",
    "\n",
    "\n",
    "from sklearn.metrics import ConfusionMatrixDisplay\n",
    "import matplotlib.pyplot as plt\n",
    "from sklearn.metrics import confusion_matrix\n",
    "predictions = model.predict(test_features)\n",
    "confusion = confusion_matrix(test_labels, predictions)\n",
    "print(\"Matrice de confusion :\")\n",
    "print(confusion)\n",
    "\n",
    "decades=[1900,1910,1920,1930,1940,1950,1960,1970,1980,1990,2000,2010]\n",
    "display = ConfusionMatrixDisplay(confusion_matrix=confusion, display_labels=decades)\n",
    "# Plot the confusion matrix\n",
    "display.plot()\n",
    "plt.title(\"Confusion Matrix\")\n",
    "plt.show()\n"
   ]
  }
 ],
 "metadata": {
  "kernelspec": {
   "display_name": "Python 3",
   "language": "python",
   "name": "python3"
  },
  "language_info": {
   "codemirror_mode": {
    "name": "ipython",
    "version": 3
   },
   "file_extension": ".py",
   "mimetype": "text/x-python",
   "name": "python",
   "nbconvert_exporter": "python",
   "pygments_lexer": "ipython3",
   "version": "3.11.4"
  },
  "orig_nbformat": 4
 },
 "nbformat": 4,
 "nbformat_minor": 2
}
